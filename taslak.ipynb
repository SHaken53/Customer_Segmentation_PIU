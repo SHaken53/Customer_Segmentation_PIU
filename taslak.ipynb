{
 "cells": [
  {
   "cell_type": "code",
   "execution_count": null,
   "metadata": {},
   "outputs": [],
   "source": [
    "# Introduction"
   ]
  },
  {
   "cell_type": "markdown",
   "metadata": {},
   "source": [
    "# Introduction"
   ]
  },
  {
   "cell_type": "markdown",
   "metadata": {},
   "source": [
    "**Müşteri segmentasyonu ve Unsupervised Learning metotlarından Clustering algoritmaları**\n",
    "\n",
    "- Öncelikle Unsupervised learning yani gözetimsiz öğrenme makine öğrenmesi modellerinde bağımlı değişkenimizin olmadığı durumlarda gözlem birimlerinin anlamlı hale getirilme çabasıdır.\n",
    "\n",
    "- Denetimsiz öğrenmede amaç, verilerdeki kalıpları veya ilişkileri keşfetmektir. \n",
    "\n",
    "- Bu açıdan denetimsiz öğrenme genellikle EDA yani keşifsel amaçlı veri analizi için kullanılır ve ham verilere bakıldığında hemen fark edilemeyebilecek kalıpları veya ilişkileri belirlemek için kullanılabilir.\n",
    "\n",
    "- Bugün üzerinde çalışacağımız datamız büyük bir alışveriş merkezinin müşterilerine vermiş olduğu üyelik kartlarından elde edilen satın alma geçmişine yönelik verileri içermekte ve bu verilere göre segmente edilmesi istenmektedir.\n",
    "\n",
    "- Datamız daha önce elden geçirilmiş, feature enginering yapılmış, kullanıma hazır bir datadır.\n",
    "\n",
    "- Bu datayı kullanarak farklı yöntemlerle müşterilerimizi kümelere-gruplara ayıracağız ve bu grupları analiz edip insightlar çıkaracağız.\n",
    "\n",
    "- Öncesinde datayı anlamak ve hakim olmak için EDA yapacağız ki daha doğru bir kümeleme yapalım."
   ]
  },
  {
   "cell_type": "markdown",
   "metadata": {},
   "source": [
    "**1. Giriş:**\n",
    "\n",
    "- **Alan Bilgisi:**\n",
    "   - Modern perakendecilik dünyasında, müşteri verileri altın değerindedir. Alışveriş merkezleri, müşteri alışkanlıklarını, tercihlerini ve demografik bilgilerini analiz ederek onlara daha özelleştirilmiş deneyimler sunmaya çalışır. Bu tür bir özelleştirme, müşteri sadakatini artırabilir ve satışları teşvik edebilir.\n",
    "\n",
    "- **Veri Kümesi Tanıtımı:**\n",
    "   - \"Mall_Customers\" veri kümesi, bu amacı desteklemek için toplanmış, alışveriş merkezi müşterilerine ait değerli bilgileri içermektedir. Bu veri kümesi, müşterilerin yaş, cinsiyet, yıllık gelir ve harcamaları gibi temel demografik ve ekonomik bilgilerini kapsamaktadır.\n",
    "  \n",
    "- **Veri Kümesinin Önemi:**\n",
    "   - Müşteri segmentasyonu, pazarlama stratejilerini ve kampanyalarını kişiye özel hale getirmek için kritik bir araçtır. \"Mall_Customers\" veri kümesi, bu segmentasyonun gerçekleştirilmesi için bir temel oluşturarak, perakendecilere ve pazarlamacılara değerli içgörüler sunabilir.\n",
    "\n",
    "- **Projemizin Amacı:**\n",
    "   - Bu projede, \"Mall_Customers\" veri kümesini kullanarak unsupervised learning teknikleri ile müşteri segmentasyonu gerçekleştirmeyi hedefliyoruz. Bu segmentasyon, alışveriş merkezine müşteri davranışları hakkında derinlemesine bilgiler sağlayarak, onlara daha kişiselleştirilmiş hizmetler sunma fırsatı verecektir.\n",
    "\n",
    "\n",
    "**2. Veri Kümesindeki Özellikler:**\n",
    "   - **Müşteri Kimliği:** Her müşteriye atanan benzersiz bir kimlik.\n",
    "   - **Cinsiyet:** Müşterinin cinsiyeti.\n",
    "   - **Yaş:** Müşterinin yaşı.\n",
    "   - **Yıllık Gelir:** Müşterinin yıllık geliri.\n",
    "   - **Harcama Skoru:** Müşterinin harcamalarını temsil eden bir puan (örn. 1-100 arası).\n",
    "\n",
    "\n",
    "**Sonuç ve Öneriler:**\n",
    "\n",
    "**1. Segmentasyonun Faydaları:**\n",
    "   - Alışveriş merkezinin farklı müşteri segmentlerine özel kampanyalar veya promosyonlar düzenleyebilmesi.\n",
    "   - Müşteri davranışlarını daha iyi anlamak ve onlara daha hedeflenmiş hizmetler sunmak. \n",
    "   \n",
    "**2. Öneriler:**\n",
    "   - Segmentler arasında önemli farklılıklar gözlemlendiği takdirde, bu farklılıklara yönelik özel stratejiler geliştirmek.\n",
    "   \n",
    "- Veri setini hızlı bir şekilde tanıdıktan sonra, Keşifsel Veri Analizi yapmanız beklenir. \n",
    "   \n",
    "- Müşterilerin farklı değişkenlere göre dağılımını gözlemlemeli, değişkenler arasındaki ilişkileri ve korelasyonları keşfetmelisiniz. \n",
    "   \n",
    "- Ardından, küme analizi için kullanılacak farklı değişkenleri belirleyeceksiniz.\n",
    "\n",
    "\n",
    "**Bu projenin temel amacı, K-Means algoritması ve Hiyerarşik kümeleme ile küme analizi yapmaktır.**\n",
    "\n",
    "- Farklı değişkenler kullanarak birçok küme analizi yapabilirsiniz. Her bir küme analizi için en fazla iki değişken kullanırsanız, küme etiketlerini daha net bir şekilde tanımlayabilirsiniz.\n",
    "\n",
    "- İlk olarak, K-Means algoritması sizden küme sayısını (n_clusters) belirlemenizi bekler. Her küme analizi için en uygun küme sayısını çeşitli şekillerde belirleyebilirsiniz. Bu durumda Elbow metodunu kullanmanız beklenir.\n",
    "\n",
    "- Son olarak, her analizde farklı bilgiler elde edilir. Bu nedenle her küme analizi sonucunda farklı etiketleme yapılmalıdır.\n",
    "\n",
    "**Etiketleme örneği:**\n",
    "\n",
    "- Normal Müşteriler (Harcama ve Yıllık Gelir açısından Ortalama bir tüketici)\n",
    "- Harcama Yapan Müşteriler (Yıllık Gelir daha azdır ancak harcaması yüksektir, dolayısıyla potansiyel hedef müşteri olarak da ele alınabilir.)"
   ]
  },
  {
   "cell_type": "markdown",
   "metadata": {},
   "source": [
    "# Tasks"
   ]
  },
  {
   "cell_type": "markdown",
   "metadata": {},
   "source": [
    "**1. Import Libraries**\n",
    "- Import Libraries\n",
    "\n",
    "**2. Exploratory Data Analysis (EDA)**\n",
    "\n",
    "**3. Cluster Analysiswith K-Means**\n",
    "\n",
    "- Clustering based on Age and Spending Score\n",
    "\n",
    "    *i. Create a new dataset with two variables of your choice*\n",
    "    \n",
    "    *ii. Determine optimal number of clusters*\n",
    "    \n",
    "    *iii. Apply K Means*\n",
    "    \n",
    "    *iv. Visualizing and Labeling All the Clusters*\n",
    "    \n",
    "    \n",
    "- Clustering based on Annual Income and Spending Score\n",
    "\n",
    "    *i. Create a new dataset with two variables of your choice*\n",
    "    \n",
    "    *ii. Determine optimal number of clusters*\n",
    "    \n",
    "    *iii. Apply K Means*\n",
    "    \n",
    "    *iv. Visualizing and Labeling All the Clusters*\n",
    "    \n",
    "    \n",
    "**4. Hierarchical Clustering**\n",
    "\n",
    "    *i. Determine optimal number of clusters using Dendogram*\n",
    "\n",
    "    *ii. Apply Agglomerative Clustering*\n",
    "\n",
    "    *iii. Visualizing and Labeling All the Clusters* \n",
    "\n",
    "**5.Conclusion**"
   ]
  },
  {
   "cell_type": "markdown",
   "metadata": {},
   "source": []
  }
 ],
 "metadata": {
  "language_info": {
   "name": "python"
  }
 },
 "nbformat": 4,
 "nbformat_minor": 2
}
